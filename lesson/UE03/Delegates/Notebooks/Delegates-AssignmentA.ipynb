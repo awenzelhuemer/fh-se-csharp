{
 "cells": [
  {
   "cell_type": "markdown",
   "metadata": {},
   "source": [
    "# Aufgabe 1\n",
    "Schreiben Sie einen Delegate-Typ namens ```MathOperationDelegate``` für Methoden, die zwei ```Integer``` als Parameter erhalten und einen ```Integer``` returnieren."
   ]
  },
  {
   "cell_type": "code",
   "execution_count": null,
   "metadata": {
    "dotnet_interactive": {
     "language": "csharp"
    }
   },
   "outputs": [
    {
     "ename": "Error",
     "evalue": "(1,39): error CS1001: Identifier expected",
     "output_type": "error",
     "traceback": [
      "(1,39): error CS1001: Identifier expected"
     ]
    }
   ],
   "source": [
    "private delegate int MathOperationDelegate(int a, int b);"
   ]
  },
  {
   "cell_type": "markdown",
   "metadata": {},
   "source": [
    "Sie sehen hier einige Methoden. Überlegen Sie, welche Methode dem Typ ```MathOperationDelegate```  entspricht."
   ]
  },
  {
   "cell_type": "code",
   "execution_count": null,
   "metadata": {
    "dotnet_interactive": {
     "language": "csharp"
    }
   },
   "outputs": [],
   "source": [
    "public void Add1(int a, int b)\n",
    "{\n",
    "    var result = a + b;\n",
    "}\n",
    "\n",
    "public delegate int Add2(int a, int b);\n",
    "\n",
    "public int Add3(int n, int m) => n + m;\n",
    "\n",
    "public int Add4(int a) => a + a;"
   ]
  },
  {
   "cell_type": "markdown",
   "metadata": {},
   "source": [
    "Erstellen Sie eine Variable vom Typ ```MathOperationDelegate``` namens ```mathOperation``` und weisen Sie dieser ihre ausgewählte Methode zu."
   ]
  },
  {
   "cell_type": "code",
   "execution_count": null,
   "metadata": {
    "dotnet_interactive": {
     "language": "csharp"
    }
   },
   "outputs": [],
   "source": []
  },
  {
   "cell_type": "markdown",
   "metadata": {},
   "source": [
    "Rufen Sie den Delegate ```mathOperation``` für die Zahlen 4 und 3 auf und geben Sie das Ergebnis auf der Konsole aus."
   ]
  },
  {
   "cell_type": "code",
   "execution_count": null,
   "metadata": {
    "dotnet_interactive": {
     "language": "csharp"
    }
   },
   "outputs": [
    {
     "name": "stdout",
     "output_type": "stream",
     "text": [
      "7\r\n"
     ]
    }
   ],
   "source": []
  },
  {
   "cell_type": "markdown",
   "metadata": {},
   "source": [
    "Schreiben Sie eine Methode ```Multiply```, die dem ```MathOperationDelegate``` entspricht und zwei Zahlen multipliziert."
   ]
  },
  {
   "cell_type": "code",
   "execution_count": null,
   "metadata": {
    "dotnet_interactive": {
     "language": "csharp"
    }
   },
   "outputs": [],
   "source": []
  },
  {
   "cell_type": "markdown",
   "metadata": {},
   "source": [
    "Weisen Sie der bestehenden ```mathOperation```-Variable ihre neue Methode ```Multiply``` zu."
   ]
  },
  {
   "cell_type": "code",
   "execution_count": null,
   "metadata": {
    "dotnet_interactive": {
     "language": "csharp"
    }
   },
   "outputs": [],
   "source": []
  },
  {
   "cell_type": "markdown",
   "metadata": {},
   "source": [
    "Funktioniert dann der folgende Code?"
   ]
  },
  {
   "cell_type": "code",
   "execution_count": null,
   "metadata": {
    "dotnet_interactive": {
     "language": "csharp"
    }
   },
   "outputs": [
    {
     "name": "stdout",
     "output_type": "stream",
     "text": [
      "12\r\n"
     ]
    }
   ],
   "source": []
  }
 ],
 "metadata": {
  "kernelspec": {
   "display_name": ".NET (C#)",
   "language": "C#",
   "name": ".net-csharp"
  },
  "language_info": {
   "name": "C#"
  }
 },
 "nbformat": 4,
 "nbformat_minor": 2
}
