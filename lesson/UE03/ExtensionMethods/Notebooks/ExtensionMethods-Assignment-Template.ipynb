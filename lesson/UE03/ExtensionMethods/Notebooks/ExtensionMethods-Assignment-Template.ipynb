{
 "cells": [
  {
   "cell_type": "markdown",
   "metadata": {},
   "source": [
    "# Aufgabe 1\n",
    "Schreiben Sie für den Datentyp `int` eine Erweiterungsmethode `IsEven`, welche\n",
    "`true` liefert, falls eine Zahl gerade ist, und sonst `false` zurückgibt."
   ]
  },
  {
   "cell_type": "code",
   "execution_count": null,
   "metadata": {
    "dotnet_interactive": {
     "language": "csharp"
    }
   },
   "outputs": [],
   "source": [
    "static bool IsEven(this int value) {\n",
    "    return value % 2 == 0;\n",
    "}"
   ]
  },
  {
   "cell_type": "markdown",
   "metadata": {},
   "source": [
    "Führen Sie im nachstehenden Programmfragment die erforderlichen Ergänzungen\n",
    "durch, sodass für jede Zahl ausgegeben wird, ob sie grade oder ungerade ist."
   ]
  },
  {
   "cell_type": "code",
   "execution_count": null,
   "metadata": {
    "dotnet_interactive": {
     "language": "csharp"
    }
   },
   "outputs": [
    {
     "name": "stdout",
     "output_type": "stream",
     "text": [
      "1 is False\r\n",
      "2 is True\r\n",
      "3 is False\r\n",
      "4 is True\r\n"
     ]
    }
   ],
   "source": [
    "foreach (var i in new [] {1,2,3,4}) \n",
    "{\n",
    "  Console.WriteLine($\"{i} is {i.IsEven()}\"); // TODO\n",
    "}"
   ]
  },
  {
   "cell_type": "markdown",
   "metadata": {},
   "source": [
    "# Aufgabe 2\n",
    "Schreiben Sie für `int` eine weitere Erweiterungsmethode `Holds`, welche überprüft, ob für eine ganze Zahl ein vorgegebenes Prädikat erfüllt ist."
   ]
  },
  {
   "cell_type": "markdown",
   "metadata": {},
   "source": [
    "Definieren Sie dafür zunächst einen Delegate-Type `Predicate`, der Methoden\n",
    "beschreibt, die eine ganze Zahl auf einen booleschen Wert abbilden."
   ]
  },
  {
   "cell_type": "code",
   "execution_count": null,
   "metadata": {
    "dotnet_interactive": {
     "language": "csharp"
    }
   },
   "outputs": [],
   "source": [
    "delegate bool Predicate(int value);"
   ]
  },
  {
   "cell_type": "markdown",
   "metadata": {},
   "source": [
    "Implementieren Sie nun auf Basis von `Predicate` die Erweiterungsmethode `Holds`."
   ]
  },
  {
   "cell_type": "code",
   "execution_count": null,
   "metadata": {
    "dotnet_interactive": {
     "language": "csharp"
    }
   },
   "outputs": [],
   "source": [
    "static bool Holds(this int value, Predicate predicate){\n",
    "    return predicate(value);\n",
    "}"
   ]
  },
  {
   "cell_type": "markdown",
   "metadata": {},
   "source": [
    "Geben Sie nachfolgend unter Zuhilfenahme von `Holds` alle positiven Zahlen des\n",
    "Arrays `numbers` auf der Konsole aus."
   ]
  },
  {
   "cell_type": "code",
   "execution_count": null,
   "metadata": {
    "dotnet_interactive": {
     "language": "csharp"
    }
   },
   "outputs": [
    {
     "name": "stdout",
     "output_type": "stream",
     "text": [
      "3\r\n",
      "8\r\n",
      "41\r\n"
     ]
    }
   ],
   "source": [
    "var numbers = new [] { -1, 3, -5, 8, -17, 41 };\n",
    "\n",
    "foreach(var number in numbers) {\n",
    "    if(number.Holds(x => x > 0)){\n",
    "        Console.WriteLine(number);\n",
    "    }\n",
    "}"
   ]
  },
  {
   "cell_type": "markdown",
   "metadata": {},
   "source": [
    "# Aufgabe 3\n",
    "Implementieren Sie eine Erweiterungsmethode `HoldsForAll`, welche für einen\n",
    "beliebigen Behälter von Werten mit dem Datentyp T überprüft, ob ein Prädikat für alle\n",
    "Elemente eines Behälters erfüllt ist.\n",
    "\n",
    "*Hinweis:* Sie müssen dafür auch den Delegate-Typ `Predicate` allgemeiner definieren."
   ]
  },
  {
   "cell_type": "code",
   "execution_count": null,
   "metadata": {
    "dotnet_interactive": {
     "language": "csharp"
    }
   },
   "outputs": [],
   "source": [
    "delegate bool Predicate<T>(T value);\n",
    "\n",
    "static bool HoldsForAll<T>(this ICollection<T> data, Predicate<T> predicate)\n",
    "{\n",
    "    return data.All(d => predicate(d));\n",
    "}"
   ]
  },
  {
   "cell_type": "markdown",
   "metadata": {},
   "source": [
    "Testen Sie `HoldsForAll`, indem Sie überprüfen, ob alle in `words` enthalten\n",
    "Zeichenketten nicht leer sind."
   ]
  },
  {
   "cell_type": "code",
   "execution_count": null,
   "metadata": {
    "dotnet_interactive": {
     "language": "csharp"
    }
   },
   "outputs": [
    {
     "name": "stdout",
     "output_type": "stream",
     "text": [
      "noEmptyWords=True\r\n"
     ]
    }
   ],
   "source": [
    "var words = new [] { \"Hello\", \"world\"};\n",
    "bool noEmptyWords = words.HoldsForAll(w => !string.IsNullOrEmpty(w));\n",
    "Console.WriteLine($\"noEmptyWords={noEmptyWords}\");"
   ]
  }
 ],
 "metadata": {
  "kernelspec": {
   "display_name": ".NET (C#)",
   "language": "C#",
   "name": ".net-csharp"
  },
  "language_info": {
   "name": "C#"
  }
 },
 "nbformat": 4,
 "nbformat_minor": 2
}
