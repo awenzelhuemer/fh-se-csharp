{
 "cells": [
  {
   "cell_type": "markdown",
   "metadata": {},
   "source": [
    "Aufgaben zu LINQ\n",
    "================"
   ]
  },
  {
   "cell_type": "markdown",
   "metadata": {},
   "source": [
    "Gegeben sei folgende Listen von Studierenden. Führen Sie auf diesem Datenbestand\n",
    "die nachfolgend angeführten LINQ-Abfragen durch."
   ]
  },
  {
   "cell_type": "code",
   "execution_count": null,
   "metadata": {
    "dotnet_interactive": {
     "language": "csharp"
    }
   },
   "outputs": [],
   "source": [
    "record Student (string MatNr, string Name, string Subject, int[] Grades);\n",
    "\n",
    "IEnumerable<Student> students = new List<Student> {\n",
    "  new (\"s12345\", \"Huber\",   \"Se\", new [] { 2, 3, 2, 1, 3 }),\n",
    "  new (\"s12388\", \"Mayr\",    \"MC\", new [] { 1, 2, 3, 2, 1 }),\n",
    "  new (\"s12321\", \"Bauer\",   \"se\", new [] { 3, 5, 5, 2, 3 }),\n",
    "  new (\"s12353\", \"Schmidt\", \"SE\", new [] { 2, 4, 3, 2, 1 }),\n",
    "};"
   ]
  },
  {
   "cell_type": "markdown",
   "metadata": {},
   "source": [
    "## Aufgabe 1\n",
    "Erstellen Sie eine Liste aller Studierenden des Studiengangs `SE`\n",
    "(Groß/Kleinschreibung ist irrelevant), welche als Elemente die Matrikelnummern und die Namen\n",
    "der Studierenden, nicht aber deren Noten enthält. Verwenden Sie dazu\n",
    "LINQ-Syntax. Geben Sie diese Liste anschließend aus."
   ]
  },
  {
   "cell_type": "code",
   "execution_count": null,
   "metadata": {
    "dotnet_interactive": {
     "language": "csharp"
    }
   },
   "outputs": [
    {
     "data": {
      "text/html": [
       "<table><thead><tr><th><i>index</i></th><th>MatNr</th><th>Name</th><th>Subject</th><th>Grades</th></tr></thead><tbody><tr><td>0</td><td>s12345</td><td>Huber</td><td>Se</td><td><div class=\"dni-plaintext\">[ 2, 3, 2, 1, 3 ]</div></td></tr><tr><td>1</td><td>s12321</td><td>Bauer</td><td>se</td><td><div class=\"dni-plaintext\">[ 3, 5, 5, 2, 3 ]</div></td></tr><tr><td>2</td><td>s12353</td><td>Schmidt</td><td>SE</td><td><div class=\"dni-plaintext\">[ 2, 4, 3, 2, 1 ]</div></td></tr></tbody></table>"
      ]
     },
     "metadata": {},
     "output_type": "display_data"
    }
   ],
   "source": [
    "var seStudents = from s in students\n",
    "                 where s.Subject.ToUpper() == \"SE\"\n",
    "                 select s;\n",
    "seStudents"
   ]
  },
  {
   "cell_type": "markdown",
   "metadata": {},
   "source": [
    "## Aufgabe 2\n",
    "Implementieren Sie die LINQ-Abfrage aus Beispiel 1 unter ausschließlicher Verwendung von Erweiterungsmethoden."
   ]
  },
  {
   "cell_type": "code",
   "execution_count": null,
   "metadata": {
    "dotnet_interactive": {
     "language": "csharp"
    }
   },
   "outputs": [
    {
     "data": {
      "text/html": [
       "<table><thead><tr><th><i>index</i></th><th>MatNr</th><th>Name</th><th>Subject</th><th>Grades</th></tr></thead><tbody><tr><td>0</td><td>s12345</td><td>Huber</td><td>Se</td><td><div class=\"dni-plaintext\">[ 2, 3, 2, 1, 3 ]</div></td></tr><tr><td>1</td><td>s12321</td><td>Bauer</td><td>se</td><td><div class=\"dni-plaintext\">[ 3, 5, 5, 2, 3 ]</div></td></tr><tr><td>2</td><td>s12353</td><td>Schmidt</td><td>SE</td><td><div class=\"dni-plaintext\">[ 2, 4, 3, 2, 1 ]</div></td></tr></tbody></table>"
      ]
     },
     "metadata": {},
     "output_type": "display_data"
    }
   ],
   "source": [
    "var seStudentsExt = students.Where(s => s.Subject.ToUpper() == \"SE\");\n",
    "seStudentsExt"
   ]
  },
  {
   "cell_type": "markdown",
   "metadata": {},
   "source": [
    "## Aufgabe 3\n",
    "Ermitteln Sie alle Studierende, welche jede LVA mit mindestens \"Befriedigend\"\n",
    "abgeschlossen haben. *Hinweis:* Verwenden Sie die Erweiterungsmethode `bool All<T> (this IEnumerable<T> source, Func<T,bool> predicate)`."
   ]
  },
  {
   "cell_type": "code",
   "execution_count": null,
   "metadata": {
    "dotnet_interactive": {
     "language": "csharp"
    }
   },
   "outputs": [
    {
     "data": {
      "text/html": [
       "<table><thead><tr><th><i>index</i></th><th>MatNr</th><th>Name</th><th>Subject</th><th>Grades</th></tr></thead><tbody><tr><td>0</td><td>s12345</td><td>Huber</td><td>Se</td><td><div class=\"dni-plaintext\">[ 2, 3, 2, 1, 3 ]</div></td></tr><tr><td>1</td><td>s12388</td><td>Mayr</td><td>MC</td><td><div class=\"dni-plaintext\">[ 1, 2, 3, 2, 1 ]</div></td></tr></tbody></table>"
      ]
     },
     "metadata": {},
     "output_type": "display_data"
    }
   ],
   "source": [
    "var goodStudents = students.Where(s => s.Grades.All(g => g <= 3));\n",
    "goodStudents"
   ]
  },
  {
   "cell_type": "markdown",
   "metadata": {},
   "source": [
    "## Aufgabe 4\n",
    "Erstellen Sie eine Liste mit den Namen und den Durchschnittsnoten aller\n",
    "Studierenden. Die Liste soll aufsteigend nach der Durchschnittsnote sortiert sein."
   ]
  },
  {
   "cell_type": "code",
   "execution_count": null,
   "metadata": {
    "dotnet_interactive": {
     "language": "csharp"
    }
   },
   "outputs": [
    {
     "data": {
      "text/html": [
       "<table><thead><tr><th><i>index</i></th><th>Name</th><th>AverageGrade</th></tr></thead><tbody><tr><td>0</td><td>Mayr</td><td><div class=\"dni-plaintext\">1.8</div></td></tr><tr><td>1</td><td>Huber</td><td><div class=\"dni-plaintext\">2.2</div></td></tr><tr><td>2</td><td>Schmidt</td><td><div class=\"dni-plaintext\">2.4</div></td></tr><tr><td>3</td><td>Bauer</td><td><div class=\"dni-plaintext\">3.6</div></td></tr></tbody></table>"
      ]
     },
     "metadata": {},
     "output_type": "display_data"
    }
   ],
   "source": [
    "var averageGrades = students\n",
    ".Select(s => new { s.Name, AverageGrade = s.Grades.Average()})\n",
    ".OrderBy(s => s.AverageGrade);\n",
    "averageGrades"
   ]
  },
  {
   "cell_type": "markdown",
   "metadata": {},
   "source": [
    "## Aufgabe 5\n",
    "Ermitteln Sie für den Studierenden mit der Matrikelnummer `s12321` ein\n",
    "Notenliste, in welcher die Noten in der Langform (\"Sehr gut\", \"Gut\", ...)\n",
    "angegeben werden. Übernehmen Sie die Note aus dem Feld `gradeStrings`."
   ]
  },
  {
   "cell_type": "code",
   "execution_count": null,
   "metadata": {
    "dotnet_interactive": {
     "language": "csharp"
    }
   },
   "outputs": [
    {
     "data": {
      "text/html": [
       "<table><thead><tr><th>MatNr</th><th>Name</th><th>Subject</th><th>Grades</th></tr></thead><tbody><tr><td><div class=\"dni-plaintext\">s12321</div></td><td><div class=\"dni-plaintext\">Bauer</div></td><td><div class=\"dni-plaintext\">se</div></td><td><div class=\"dni-plaintext\">[ 3, 5, 5, 2, 3 ]</div></td></tr></tbody></table>"
      ]
     },
     "metadata": {},
     "output_type": "display_data"
    },
    {
     "data": {
      "text/html": [
       "<table><thead><tr><th><i>index</i></th><th>value</th></tr></thead><tbody><tr><td>0</td><td>Befriedigend</td></tr><tr><td>1</td><td>Nicht gen&#252;gend</td></tr><tr><td>2</td><td>Nicht gen&#252;gend</td></tr><tr><td>3</td><td>Gut</td></tr><tr><td>4</td><td>Befriedigend</td></tr></tbody></table>"
      ]
     },
     "metadata": {},
     "output_type": "display_data"
    }
   ],
   "source": [
    "var gradeStrings = new [] { \"Sehr gut\", \"Gut\", \"Befriedigend\", \"Genügend\", \"Nicht genügend\" };\n",
    "var student = students.SingleOrDefault(s => s.MatNr == \"s12321\");\n",
    "\n",
    "var grades = student.Grades.Select(g => gradeStrings[g - 1]);\n",
    "display(student);\n",
    "grades"
   ]
  }
 ],
 "metadata": {
  "kernelspec": {
   "display_name": ".NET (C#)",
   "language": "C#",
   "name": ".net-csharp"
  },
  "language_info": {
   "name": "C#"
  }
 },
 "nbformat": 4,
 "nbformat_minor": 2
}
